{
 "cells": [
  {
   "cell_type": "code",
   "execution_count": 1,
   "metadata": {
    "collapsed": true
   },
   "outputs": [],
   "source": [
    "import pandas as pd\n",
    "import numpy as np\n",
    "import requests\n",
    "\n",
    "from bs4 import BeautifulSoup"
   ]
  },
  {
   "cell_type": "code",
   "execution_count": null,
   "metadata": {
    "collapsed": true
   },
   "outputs": [],
   "source": [
    "# Function to move along tags for better readability\n",
    "def moveSibling(tag, number):\n",
    "\ti = 1\n",
    "\twhile i <= number:\n",
    "\t\ttag = tag.nextSibling\n",
    "\t\ti += 1\n",
    "\treturn tag"
   ]
  },
  {
   "cell_type": "code",
   "execution_count": 2,
   "metadata": {
    "collapsed": false
   },
   "outputs": [
    {
     "name": "stdout",
     "output_type": "stream",
     "text": [
      "http://www.fussballdaten.de/bundesliga/2017/spielplan\n"
     ]
    }
   ],
   "source": [
    "# Empty DF with the columns for the data to be downloaded.\n",
    "all_seasons = pd.DataFrame(data=None, columns=[\"Season\", \"Gameday\", \"TeamH\", \"TeamA\", \"FTHG\", \"FTAG\"])\n",
    "\n",
    "for year in range(1965, 2018):\n",
    "    # Skip 1992 because the season was played with 20 teams instead of 18.\n",
    "    if year == 1992:\n",
    "        continue\n",
    "    \n",
    "    url = \"http://www.fussballdaten.de/bundesliga/\" + str(year) + \"/spielplan\"\n",
    "    print url\n",
    "\n",
    "    website = requests.get(url)\n",
    "    main = BeautifulSoup(website.content, 'lxml')\n",
    "    \n",
    "    all_games = []\n",
    "    \n",
    "    for gd in main.find_all('div', {'class': 'col-md-4'}):\n",
    "        try:\n",
    "            gameday = gd.find('div', {'class': 'box header-title'}).text\n",
    "        except:\n",
    "            continue\n",
    "        gameday = int(float(gameday[0:2].strip()))\n",
    "        match_list = gd.find('table', {'class':'table-small-spiel kv-grid-table table table-striped kv-table-wrap'})\n",
    "    \n",
    "        for match in match_list.find_all('a'):\n",
    "            all_games.append(match.text.split(\":\"))\n",
    "            \n",
    "    # Flatten list for a given season ...\n",
    "    all_games = [element for sublist in all_games for element in sublist]\n",
    "    # ... and then partition into games\n",
    "    all_games = [all_games[i:i+4] for i in range(0, len(all_games), 4)]\n",
    "\n",
    "    # Store data in DF\n",
    "    current_season = pd.DataFrame(data=all_games, columns=[\"TeamH\", \"TeamA\", \"FTHG\", \"FTAG\"])\n",
    "    # Write Season and Gameday IDs\n",
    "    current_season.loc[:, \"Season\"] = year-1\n",
    "    current_season.loc[:, \"Gameday\"] = (current_season.index/9)+1\n",
    "    \n",
    "    all_seasons = all_seasons.append(current_season)\n",
    "\n",
    "all_seasons.to_csv(\"Long_History.csv\", encoding='utf-8')"
   ]
  }
 ],
 "metadata": {
  "kernelspec": {
   "display_name": "Python 2",
   "language": "python",
   "name": "python2"
  },
  "language_info": {
   "codemirror_mode": {
    "name": "ipython",
    "version": 2
   },
   "file_extension": ".py",
   "mimetype": "text/x-python",
   "name": "python",
   "nbconvert_exporter": "python",
   "pygments_lexer": "ipython2",
   "version": "2.7.11"
  }
 },
 "nbformat": 4,
 "nbformat_minor": 0
}
